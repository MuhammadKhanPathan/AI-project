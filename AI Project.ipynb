{
 "cells": [
  {
   "cell_type": "markdown",
   "metadata": {},
   "source": [
    "# Import liabraries "
   ]
  },
  {
   "cell_type": "code",
   "execution_count": null,
   "metadata": {},
   "outputs": [],
   "source": [
    "import os\n",
    "from os import listdir, makedirs\n",
    "from os.path import join, exists, expanduser\n",
    "from tensorflow.keras import applications\n",
    "from tensorflow.keras.preprocessing.image import ImageDataGenerator\n",
    "from tensorflow.keras import optimizers\n",
    "from tensorflow.keras.models import Sequential, Model, load_model\n",
    "from tensorflow.keras.layers import Dense, GlobalAveragePooling2D\n",
    "from tensorflow.keras.layers import Activation, Dropout, Flatten, Dense\n",
    "from keras import backend as K\n",
    "import tensorflow as tf\n",
    "from keras.utils.data_utils import Sequence\n",
    "import sys\n",
    "from PIL import *\n",
    "from tensorflow.keras.applications import ResNet50V2\n",
    "sys.modules['Image'] = Image "
   ]
  },
  {
   "cell_type": "markdown",
   "metadata": {},
   "source": [
    "# Load Data"
   ]
  },
  {
   "cell_type": "code",
   "execution_count": null,
   "metadata": {},
   "outputs": [],
   "source": [
    "#downloaded dataset to pc\n",
    "#add your paths for data location when running \n",
    "#edit paths if not running from muhammadpc\n",
    "\n",
    "train_path_of_data = \"Documents/muhammadpc/kaggle/input/chest-xray-pneumonia/chest_xray/train/\"\n",
    "val_path_of_data = \"Documents/muhammadpc/kaggle/input/chest-xray-pneumonia/chest_xray/val/\"\n",
    "test_path_of_data= \"Documents/muhammadpc/kaggle/input/chest-xray-pneumonia/chest_xray/test/\""
   ]
  },
  {
   "cell_type": "code",
   "execution_count": null,
   "metadata": {},
   "outputs": [],
   "source": [
    "print(train_path_of_data)\n",
    "print(val_path_of_data)\n",
    "print(test_path_of_data)\n"
   ]
  },
  {
   "cell_type": "code",
   "execution_count": null,
   "metadata": {},
   "outputs": [],
   "source": [
    "#load images \n",
    "normal_images = glob.glob(train_path_of_data+\"NORMAL/*.jpeg\")\n",
    "pneumonia_images = glob.glob(train_path_of_data+\"PNEUMONIA/*.jpeg\")"
   ]
  },
  {
   "cell_type": "code",
   "execution_count": null,
   "metadata": {},
   "outputs": [],
   "source": [
    "total_number_of_normal_images= len(normal_images)\n",
    "total_number_of_pneumonia_images = len(pneumonia_images)\n",
    "print(\"number of normal images=\", total_number_of_normal_images)\n",
    "print(\"number of pneumonia images=\", total_number_of_pneumonia_images)"
   ]
  },
  {
   "cell_type": "markdown",
   "metadata": {},
   "source": [
    "# Data Analysis and visualization"
   ]
  },
  {
   "cell_type": "code",
   "execution_count": null,
   "metadata": {},
   "outputs": [],
   "source": [
    "#plot distribution\n",
    "sns.set_theme(style=\"whitegrid\")\n",
    "plt.figure(figsize = (8,8))\n",
    "ax = sns.barplot( x = [\"Normal\", \"Pneumonia\"], y = [total_number_of_normal_images, total_number_of_pneumonia_images])"
   ]
  },
  {
   "cell_type": "code",
   "execution_count": null,
   "metadata": {},
   "outputs": [],
   "source": [
    "#plot images and resize them \n",
    "\n",
    "fig, axes = plt.subplots(nrows=1, ncols=4, figsize=(15,10), subplot_kw={'xticks':[], 'yticks':[]})\n",
    "for i, ax in enumerate(axes.flat):\n",
    "    img = cv2.imread(normal_images[i])\n",
    "    img = cv2.resize(img, (220,220))\n",
    "    ax.imshow(img)\n",
    "    ax.axis(\"off\")\n",
    "    ax.set_title(\"Normal Image\")\n",
    "    \n",
    "    \n",
    "plt.show()\n",
    "\n",
    "fig, axes = plt.subplots(nrows=1, ncols=4, figsize=(15,10), subplot_kw={'xticks':[], 'yticks':[]})\n",
    "for i, ax in enumerate(axes.flat):\n",
    "    img = cv2.imread(pneumonia_images[i])\n",
    "    img = cv2.resize(img, (220,220))\n",
    "    ax.imshow(img)\n",
    "    ax.axis(\"off\")\n",
    "    ax.set_title(\"Pneumonia Image\")\n",
    "fig.tight_layout()    \n",
    "plt.show()"
   ]
  },
  {
   "cell_type": "markdown",
   "metadata": {},
   "source": [
    "# Data Augmentation/Preprocess"
   ]
  },
  {
   "cell_type": "code",
   "execution_count": null,
   "metadata": {},
   "outputs": [],
   "source": [
    "#normalize\n",
    "train_val_generator = ImageDataGenerator(rescale=1./255,horizontal_flip=True,zoom_range=0.3)\n",
    "test_generator = ImageDataGenerator(rescale=1./255)"
   ]
  },
  {
   "cell_type": "code",
   "execution_count": null,
   "metadata": {},
   "outputs": [],
   "source": [
    "#color mode=greyscale to preprocess all images to grayscale\n",
    "train = train_val_generator.flow_from_directory(train_path_of_data,\n",
    "                                               batch_size=128,\n",
    "                                               target_size=(220,220),\n",
    "                                               color_mode=\"grayscale\",\n",
    "                                               class_mode=\"binary\",\n",
    "                                               shuffle=True,\n",
    "                                               seed=42,\n",
    "                                               subset=\"training\")"
   ]
  },
  {
   "cell_type": "code",
   "execution_count": null,
   "metadata": {},
   "outputs": [],
   "source": [
    "#color mode=greyscale to preprocess all images to grayscale\n",
    "val = train_val_generator.flow_from_directory(val_path_of_data,\n",
    "                                               batch_size=4,\n",
    "                                               target_size=(220,220),\n",
    "                                               color_mode=\"grayscale\",\n",
    "                                               class_mode=\"binary\",\n",
    "                                               shuffle=True,\n",
    "                                               seed=42)"
   ]
  },
  {
   "cell_type": "code",
   "execution_count": null,
   "metadata": {},
   "outputs": [],
   "source": [
    "#color mode=greyscale to preprocess all images to grayscale\n",
    "test = test_generator.flow_from_directory(test_path_of_data,\n",
    "                                          batch_size=32,\n",
    "                                          target_size=(220,220),\n",
    "                                          color_mode=\"grayscale\",\n",
    "                                          class_mode=\"binary\")"
   ]
  },
  {
   "cell_type": "markdown",
   "metadata": {},
   "source": [
    "# Load Model "
   ]
  },
  {
   "cell_type": "markdown",
   "metadata": {},
   "source": [
    "can get model from keras function docs https://keras.io/api/applications/resnet/"
   ]
  },
  {
   "cell_type": "code",
   "execution_count": null,
   "metadata": {},
   "outputs": [],
   "source": [
    "resnet50 = ResNet50V2(weights = \"imagenet\", input_shape = (220,220,3), include_top = False)\n",
    "for layer in resnet50.layers:\n",
    "    layer.trainable = False\n",
    "\n",
    "model = Sequential()\n",
    "model.add(resnet50)\n",
    "\n",
    "for layer in resnet50.layers:\n",
    "    layer.trainable = False\n",
    "    \n",
    "model.add(Flatten())\n",
    "model.add(Dense(units = 128, activation = \"relu\"))\n",
    "model.add(Dropout(0.5))\n",
    "model.add(Dense(units = 1, activation = \"sigmoid\"))\n",
    "model.compile(optimizer = \"adam\", loss = \"binary_crossentropy\", metrics = [\"accuracy\"])\n",
    "model.summary()"
   ]
  },
  {
   "cell_type": "code",
   "execution_count": null,
   "metadata": {},
   "outputs": [],
   "source": [
    "model.summary()"
   ]
  },
  {
   "cell_type": "code",
   "execution_count": null,
   "metadata": {},
   "outputs": [],
   "source": [
    "#tested both early stopping vs dropout(dropout gave better results therfore removed early stopping from code and kept dropout)\n"
   ]
  },
  {
   "cell_type": "markdown",
   "metadata": {},
   "source": [
    "# Plot model"
   ]
  },
  {
   "cell_type": "code",
   "execution_count": null,
   "metadata": {},
   "outputs": [],
   "source": [
    "hist = model.fit(train,validation_data=val,epochs=60)"
   ]
  },
  {
   "cell_type": "markdown",
   "metadata": {},
   "source": [
    "# Evaluate model"
   ]
  },
  {
   "cell_type": "code",
   "execution_count": null,
   "metadata": {},
   "outputs": [],
   "source": [
    "plt.figure(figsize=(8,8))\n",
    "plt.plot(hist.history['loss'], color='b', label=\"Training loss\")\n",
    "plt.plot(hist.history['val_loss'], color='r', label=\"Validation loss\")\n",
    "plt.legend()\n",
    "plt.show()\n",
    "\n",
    "plt.figure()\n",
    "\n",
    "plt.figure(figsize=(8,8))\n",
    "plt.plot(hist.history['accuracy'], color='b', label=\"Training accuracy\")\n",
    "plt.plot(hist.history['val_accuracy'], color='r',label=\"Validation accuracy\")\n",
    "plt.legend(loc = \"lower right\")\n",
    "plt.show()"
   ]
  }
 ],
 "metadata": {
  "kernelspec": {
   "display_name": "Python 3",
   "language": "python",
   "name": "python3"
  },
  "language_info": {
   "codemirror_mode": {
    "name": "ipython",
    "version": 3
   },
   "file_extension": ".py",
   "mimetype": "text/x-python",
   "name": "python",
   "nbconvert_exporter": "python",
   "pygments_lexer": "ipython3",
   "version": "3.6.10"
  }
 },
 "nbformat": 4,
 "nbformat_minor": 4
}
